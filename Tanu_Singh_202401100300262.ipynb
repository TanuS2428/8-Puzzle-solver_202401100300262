{
  "nbformat": 4,
  "nbformat_minor": 0,
  "metadata": {
    "colab": {
      "provenance": []
    },
    "kernelspec": {
      "name": "python3",
      "display_name": "Python 3"
    },
    "language_info": {
      "name": "python"
    }
  },
  "cells": [
    {
      "cell_type": "code",
      "execution_count": 7,
      "metadata": {
        "colab": {
          "base_uri": "https://localhost:8080/"
        },
        "id": "qyhW8rEmicP3",
        "outputId": "8d686f50-fd40-4144-b6ff-917e25fbe534"
      },
      "outputs": [
        {
          "output_type": "stream",
          "name": "stdout",
          "text": [
            "Solution found!\n",
            "(1, 2, 3)\n",
            "(4, 0, 5)\n",
            "(7, 8, 6)\n",
            "---------\n",
            "(1, 2, 3)\n",
            "(4, 5, 0)\n",
            "(7, 8, 6)\n",
            "---------\n",
            "(1, 2, 3)\n",
            "(4, 5, 6)\n",
            "(7, 8, 0)\n",
            "---------\n"
          ]
        }
      ],
      "source": [
        "import heapq\n",
        "\n",
        "goal_state = (1, 2, 3, 4, 5, 6, 7, 8, 0)    # Goal state of the 8 puzzle\n",
        "\n",
        "moves = [(-1, 0), (1, 0), (0, -1), (0, 1)]   # Directions for moving the empty space (0)   Up, Down, Left, Right\n",
        "\n",
        "\n",
        "\n",
        "def manhattan_distance(state):  # Function to calculate the Manhattan Distance\n",
        "\n",
        "    distance = 0\n",
        "    for i in range(9):\n",
        "        value = state[i]\n",
        "        if value == 0:\n",
        "            continue\n",
        "        target_row, target_col = divmod(value - 1, 3)\n",
        "        current_row, current_col = divmod(i, 3)\n",
        "        distance += abs(current_row - target_row) + abs(current_col - target_col)\n",
        "    return distance\n",
        "\n",
        "def get_neighbors(state):   # Function to generate the neighbors (valid moves)\n",
        "\n",
        "    empty_index = state.index(0)\n",
        "    row, col = divmod(empty_index, 3)\n",
        "    neighbors = []\n",
        "\n",
        "    for dr, dc in moves:\n",
        "        new_row, new_col = row + dr, col + dc\n",
        "        if 0 <= new_row < 3 and 0 <= new_col < 3:\n",
        "            new_empty_index = new_row * 3 + new_col\n",
        "            new_state = list(state)\n",
        "            new_state[empty_index], new_state[new_empty_index] = new_state[new_empty_index], new_state[empty_index]              # Swap the empty space (0) with the adjacent tile\n",
        "\n",
        "            neighbors.append(tuple(new_state))\n",
        "\n",
        "    return neighbors\n",
        "\n",
        "def a_star_search(start_state):   # A* search algorithm\n",
        "\n",
        "\n",
        "    open_list = []      # Priority queue for A* (f_score, state, g_score, path)\n",
        "    heapq.heappush(open_list, (manhattan_distance(start_state), start_state, 0, []))\n",
        "\n",
        "\n",
        "    visited = set()            # Set to store visited states\n",
        "    visited.add(start_state)\n",
        "\n",
        "    while open_list:\n",
        "        f_score, current_state, g_score, path = heapq.heappop(open_list)\n",
        "\n",
        "        if current_state == goal_state:             # If goal state is reached, return the solution path\n",
        "\n",
        "            return path + [current_state]\n",
        "\n",
        "\n",
        "        for neighbor in get_neighbors(current_state):         # Get neighbors and process them\n",
        "            if neighbor not in visited:\n",
        "                visited.add(neighbor)\n",
        "                new_g_score = g_score + 1\n",
        "                new_f_score = new_g_score + manhattan_distance(neighbor)\n",
        "                heapq.heappush(open_list, (new_f_score, neighbor, new_g_score, path + [current_state]))\n",
        "\n",
        "    return None  # If no solution is found\n",
        "\n",
        "start_state = (1, 2, 3, 4, 0, 5, 7, 8, 6)   # Example input: the start state of the puzzle\n",
        "\n",
        "\n",
        "solution = a_star_search(start_state)\n",
        "\n",
        "\n",
        "\n",
        "if solution:                       # Printing the solution\n",
        "    print(\"Solution found!\")\n",
        "    for step in solution:\n",
        "        print(step[:3])\n",
        "        print(step[3:6])\n",
        "        print(step[6:])\n",
        "        print(\"-\" * 9)\n",
        "else:\n",
        "    print(\"No solution found.\")\n"
      ]
    }
  ]
}